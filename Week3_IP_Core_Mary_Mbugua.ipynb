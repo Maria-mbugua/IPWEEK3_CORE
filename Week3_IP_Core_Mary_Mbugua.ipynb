{
  "nbformat": 4,
  "nbformat_minor": 0,
  "metadata": {
    "colab": {
      "name": "Week3_IP_Core_Mary_Mbugua.ipynb",
      "provenance": [],
      "authorship_tag": "ABX9TyOvYVGZzapdDFPmm9DxF5Ts",
      "include_colab_link": true
    },
    "kernelspec": {
      "name": "python3",
      "display_name": "Python 3"
    },
    "language_info": {
      "name": "python"
    }
  },
  "cells": [
    {
      "cell_type": "markdown",
      "metadata": {
        "id": "view-in-github",
        "colab_type": "text"
      },
      "source": [
        "<a href=\"https://colab.research.google.com/github/Maria-mbugua/IPWEEK3_CORE/blob/main/Week3_IP_Core_Mary_Mbugua.ipynb\" target=\"_parent\"><img src=\"https://colab.research.google.com/assets/colab-badge.svg\" alt=\"Open In Colab\"/></a>"
      ]
    },
    {
      "cell_type": "code",
      "execution_count": 1,
      "metadata": {
        "id": "Rc0fOVA22Or6"
      },
      "outputs": [],
      "source": [
        "# Importing libraries\n",
        "import pandas as pd\n",
        "import numpy as np\n",
        "import random"
      ]
    },
    {
      "cell_type": "code",
      "source": [
        "# Prevewing the dataset\n",
        "url = 'http://bit.ly/MedicalCitiesIncomeDataset'\n",
        "df = pd.read_csv(url)\n",
        "df.head()"
      ],
      "metadata": {
        "colab": {
          "base_uri": "https://localhost:8080/",
          "height": 206
        },
        "id": "Ee3mIeXk2oQX",
        "outputId": "67c61cf8-5953-4eae-8abe-9555cdbb4122"
      },
      "execution_count": 2,
      "outputs": [
        {
          "output_type": "execute_result",
          "data": {
            "text/plain": [
              "   Number    City Gender  Age   Income Illness\n",
              "0       1  Dallas   Male   41  40367.0      No\n",
              "1       2  Dallas   Male   54  45084.0      No\n",
              "2       3  Dallas   Male   42  52483.0      No\n",
              "3       4  Dallas   Male   40  40941.0      No\n",
              "4       5  Dallas   Male   46  50289.0      No"
            ],
            "text/html": [
              "\n",
              "  <div id=\"df-25b64dfa-a17f-42c4-81b5-e9fa408215f5\">\n",
              "    <div class=\"colab-df-container\">\n",
              "      <div>\n",
              "<style scoped>\n",
              "    .dataframe tbody tr th:only-of-type {\n",
              "        vertical-align: middle;\n",
              "    }\n",
              "\n",
              "    .dataframe tbody tr th {\n",
              "        vertical-align: top;\n",
              "    }\n",
              "\n",
              "    .dataframe thead th {\n",
              "        text-align: right;\n",
              "    }\n",
              "</style>\n",
              "<table border=\"1\" class=\"dataframe\">\n",
              "  <thead>\n",
              "    <tr style=\"text-align: right;\">\n",
              "      <th></th>\n",
              "      <th>Number</th>\n",
              "      <th>City</th>\n",
              "      <th>Gender</th>\n",
              "      <th>Age</th>\n",
              "      <th>Income</th>\n",
              "      <th>Illness</th>\n",
              "    </tr>\n",
              "  </thead>\n",
              "  <tbody>\n",
              "    <tr>\n",
              "      <th>0</th>\n",
              "      <td>1</td>\n",
              "      <td>Dallas</td>\n",
              "      <td>Male</td>\n",
              "      <td>41</td>\n",
              "      <td>40367.0</td>\n",
              "      <td>No</td>\n",
              "    </tr>\n",
              "    <tr>\n",
              "      <th>1</th>\n",
              "      <td>2</td>\n",
              "      <td>Dallas</td>\n",
              "      <td>Male</td>\n",
              "      <td>54</td>\n",
              "      <td>45084.0</td>\n",
              "      <td>No</td>\n",
              "    </tr>\n",
              "    <tr>\n",
              "      <th>2</th>\n",
              "      <td>3</td>\n",
              "      <td>Dallas</td>\n",
              "      <td>Male</td>\n",
              "      <td>42</td>\n",
              "      <td>52483.0</td>\n",
              "      <td>No</td>\n",
              "    </tr>\n",
              "    <tr>\n",
              "      <th>3</th>\n",
              "      <td>4</td>\n",
              "      <td>Dallas</td>\n",
              "      <td>Male</td>\n",
              "      <td>40</td>\n",
              "      <td>40941.0</td>\n",
              "      <td>No</td>\n",
              "    </tr>\n",
              "    <tr>\n",
              "      <th>4</th>\n",
              "      <td>5</td>\n",
              "      <td>Dallas</td>\n",
              "      <td>Male</td>\n",
              "      <td>46</td>\n",
              "      <td>50289.0</td>\n",
              "      <td>No</td>\n",
              "    </tr>\n",
              "  </tbody>\n",
              "</table>\n",
              "</div>\n",
              "      <button class=\"colab-df-convert\" onclick=\"convertToInteractive('df-25b64dfa-a17f-42c4-81b5-e9fa408215f5')\"\n",
              "              title=\"Convert this dataframe to an interactive table.\"\n",
              "              style=\"display:none;\">\n",
              "        \n",
              "  <svg xmlns=\"http://www.w3.org/2000/svg\" height=\"24px\"viewBox=\"0 0 24 24\"\n",
              "       width=\"24px\">\n",
              "    <path d=\"M0 0h24v24H0V0z\" fill=\"none\"/>\n",
              "    <path d=\"M18.56 5.44l.94 2.06.94-2.06 2.06-.94-2.06-.94-.94-2.06-.94 2.06-2.06.94zm-11 1L8.5 8.5l.94-2.06 2.06-.94-2.06-.94L8.5 2.5l-.94 2.06-2.06.94zm10 10l.94 2.06.94-2.06 2.06-.94-2.06-.94-.94-2.06-.94 2.06-2.06.94z\"/><path d=\"M17.41 7.96l-1.37-1.37c-.4-.4-.92-.59-1.43-.59-.52 0-1.04.2-1.43.59L10.3 9.45l-7.72 7.72c-.78.78-.78 2.05 0 2.83L4 21.41c.39.39.9.59 1.41.59.51 0 1.02-.2 1.41-.59l7.78-7.78 2.81-2.81c.8-.78.8-2.07 0-2.86zM5.41 20L4 18.59l7.72-7.72 1.47 1.35L5.41 20z\"/>\n",
              "  </svg>\n",
              "      </button>\n",
              "      \n",
              "  <style>\n",
              "    .colab-df-container {\n",
              "      display:flex;\n",
              "      flex-wrap:wrap;\n",
              "      gap: 12px;\n",
              "    }\n",
              "\n",
              "    .colab-df-convert {\n",
              "      background-color: #E8F0FE;\n",
              "      border: none;\n",
              "      border-radius: 50%;\n",
              "      cursor: pointer;\n",
              "      display: none;\n",
              "      fill: #1967D2;\n",
              "      height: 32px;\n",
              "      padding: 0 0 0 0;\n",
              "      width: 32px;\n",
              "    }\n",
              "\n",
              "    .colab-df-convert:hover {\n",
              "      background-color: #E2EBFA;\n",
              "      box-shadow: 0px 1px 2px rgba(60, 64, 67, 0.3), 0px 1px 3px 1px rgba(60, 64, 67, 0.15);\n",
              "      fill: #174EA6;\n",
              "    }\n",
              "\n",
              "    [theme=dark] .colab-df-convert {\n",
              "      background-color: #3B4455;\n",
              "      fill: #D2E3FC;\n",
              "    }\n",
              "\n",
              "    [theme=dark] .colab-df-convert:hover {\n",
              "      background-color: #434B5C;\n",
              "      box-shadow: 0px 1px 3px 1px rgba(0, 0, 0, 0.15);\n",
              "      filter: drop-shadow(0px 1px 2px rgba(0, 0, 0, 0.3));\n",
              "      fill: #FFFFFF;\n",
              "    }\n",
              "  </style>\n",
              "\n",
              "      <script>\n",
              "        const buttonEl =\n",
              "          document.querySelector('#df-25b64dfa-a17f-42c4-81b5-e9fa408215f5 button.colab-df-convert');\n",
              "        buttonEl.style.display =\n",
              "          google.colab.kernel.accessAllowed ? 'block' : 'none';\n",
              "\n",
              "        async function convertToInteractive(key) {\n",
              "          const element = document.querySelector('#df-25b64dfa-a17f-42c4-81b5-e9fa408215f5');\n",
              "          const dataTable =\n",
              "            await google.colab.kernel.invokeFunction('convertToInteractive',\n",
              "                                                     [key], {});\n",
              "          if (!dataTable) return;\n",
              "\n",
              "          const docLinkHtml = 'Like what you see? Visit the ' +\n",
              "            '<a target=\"_blank\" href=https://colab.research.google.com/notebooks/data_table.ipynb>data table notebook</a>'\n",
              "            + ' to learn more about interactive tables.';\n",
              "          element.innerHTML = '';\n",
              "          dataTable['output_type'] = 'display_data';\n",
              "          await google.colab.output.renderOutput(dataTable, element);\n",
              "          const docLink = document.createElement('div');\n",
              "          docLink.innerHTML = docLinkHtml;\n",
              "          element.appendChild(docLink);\n",
              "        }\n",
              "      </script>\n",
              "    </div>\n",
              "  </div>\n",
              "  "
            ]
          },
          "metadata": {},
          "execution_count": 2
        }
      ]
    },
    {
      "cell_type": "code",
      "source": [
        "# Displaying the size of the data\n",
        "df.shape"
      ],
      "metadata": {
        "colab": {
          "base_uri": "https://localhost:8080/"
        },
        "id": "ehhP5OGH27Pm",
        "outputId": "b6ab8c6f-511c-4463-983e-2f3bca03fe6f"
      },
      "execution_count": 3,
      "outputs": [
        {
          "output_type": "execute_result",
          "data": {
            "text/plain": [
              "(150000, 6)"
            ]
          },
          "metadata": {},
          "execution_count": 3
        }
      ]
    },
    {
      "cell_type": "code",
      "source": [
        "# Selecting a sample from the data\n",
        "df1 = df.sample(n = 30, replace=\"False\")\n",
        "print(df1)"
      ],
      "metadata": {
        "colab": {
          "base_uri": "https://localhost:8080/"
        },
        "id": "R1YhemmD3ECJ",
        "outputId": "9aaf785b-0d14-49fd-82bf-98508460a9f3"
      },
      "execution_count": 7,
      "outputs": [
        {
          "output_type": "stream",
          "name": "stdout",
          "text": [
            "        Number           City  Gender  Age    Income Illness\n",
            "136344  136345      San Diego    Male   52   88421.0      No\n",
            "41866    41867  New York City  Female   29   94996.0      No\n",
            "135756  135757      San Diego  Female   48  110464.0      No\n",
            "17703    17704         Dallas    Male   47   53410.0      No\n",
            "48819    48820  New York City    Male   37   93050.0      No\n",
            "120771  120772         Boston    Male   62  108852.0      No\n",
            "45255    45256  New York City    Male   33   92438.0      No\n",
            "69394    69395  New York City    Male   39   98607.0      No\n",
            "54186    54187  New York City    Male   40  101735.0      No\n",
            "79669    79670    Los Angeles  Female   48  103262.0     Yes\n",
            "77921    77922    Los Angeles  Female   58   93152.0      No\n",
            "69818    69819  New York City  Female   50  103072.0      No\n",
            "17159    17160         Dallas  Female   64   29199.0      No\n",
            "10450    10451         Dallas  Female   31   41605.0      No\n",
            "103225  103226  Mountain View  Female   65  113548.0      No\n",
            "88751    88752    Los Angeles    Male   52   98017.0      No\n",
            "38840    38841  New York City  Female   39  101899.0      No\n",
            "83931    83932    Los Angeles    Male   30  102103.0      No\n",
            "85975    85976    Los Angeles    Male   54   95192.0      No\n",
            "4406      4407         Dallas  Female   54   41182.0      No\n",
            "62345    62346  New York City  Female   36   91766.0     Yes\n",
            "21552    21553  New York City    Male   28   95613.0      No\n",
            "52163    52164  New York City    Male   59   97586.0      No\n",
            "69739    69740  New York City  Female   37   95364.0      No\n",
            "145033  145034         Austin    Male   64  103472.0     Yes\n",
            "27527    27528  New York City    Male   46   95821.0     Yes\n",
            "145174  145175         Austin    Male   38   97624.0      No\n",
            "139319  139320         Austin    Male   48   96613.0      No\n",
            "149056  149057         Austin    Male   50   94021.0      No\n",
            "34321    34322  New York City    Male   33  118546.0      No\n"
          ]
        }
      ]
    }
  ]
}